{
 "cells": [
  {
   "cell_type": "markdown",
   "metadata": {},
   "source": [
    "# Week 1 - Exercise\n",
    "### Notebook created by Jonathan Penava"
   ]
  },
  {
   "cell_type": "markdown",
   "metadata": {},
   "source": [
    "For this exercise you are going to write a function that makes change for amounts less than one dollar. Input must be a positive integer up to 100, representing an amount of money, in cents. Output must be the original amount of money together with a set of coins (quarters, dimes, nickels) that could make up the amount. The function must produce change containing the minimum number of coins required to produce the given amount. Remember that the penny is no longer in production, so you must round the value up or down accordingly.  The output must be reasonable and non-stilted. For example, the input of 54 should produce results such as: \n",
    "        54 cents requires 2 quarters, 1 nickel\n",
    "rather than\n",
    "        54 cents requires 2 quarters, 0 dimes, 1 nickels\n",
    "\n",
    "Provide some message if values do not produce output.\n"
   ]
  },
  {
   "cell_type": "code",
   "execution_count": 2,
   "metadata": {},
   "outputs": [],
   "source": [
    "def makeChange(change) :\n",
    "    if change < 0 or change > 100:\n",
    "        return \"Please enter a positive number before 100\"\n",
    "    \n",
    "    remainder = change % 5\n",
    "    if remainder >= 3:\n",
    "        change = change + (5 - remainder)\n",
    "    else:\n",
    "        change = change - remainder\n",
    "\n",
    "    quarters = change // 25\n",
    "    change %= 25\n",
    "    \n",
    "    dimes = change // 10\n",
    "    change %= 10\n",
    "    \n",
    "    nickels = change // 5\n",
    "    \n",
    "    result = ''\n",
    "\n",
    "    if quarters > 0:\n",
    "        result += f\"{quarters} quarter{'s' if quarters > 1 else ''}\"\n",
    "    if dimes > 0:\n",
    "        result += f\"{', ' if quarters > 0 else ''}{dimes} dime{'s' if dimes > 1 else ''}\"\n",
    "    if nickels > 0:\n",
    "        result += f\"{', ' if quarters > 0 or dimes > 0 else ''}{nickels} nickel{'s' if nickels > 1 else ''}\"\n",
    "    \n",
    "    return result\n"
   ]
  },
  {
   "cell_type": "code",
   "execution_count": 3,
   "metadata": {},
   "outputs": [
    {
     "data": {
      "text/plain": [
       "'1 dime, 1 nickel'"
      ]
     },
     "execution_count": 3,
     "metadata": {},
     "output_type": "execute_result"
    }
   ],
   "source": [
    "makeChange(68)"
   ]
  },
  {
   "cell_type": "code",
   "execution_count": 9,
   "metadata": {},
   "outputs": [
    {
     "data": {
      "text/plain": [
       "'2 quarters, 1 nickel'"
      ]
     },
     "execution_count": 9,
     "metadata": {},
     "output_type": "execute_result"
    }
   ],
   "source": [
    "makeChange(54)"
   ]
  },
  {
   "cell_type": "code",
   "execution_count": 10,
   "metadata": {},
   "outputs": [
    {
     "data": {
      "text/plain": [
       "'1 quarter, 1 nickel'"
      ]
     },
     "execution_count": 10,
     "metadata": {},
     "output_type": "execute_result"
    }
   ],
   "source": [
    "makeChange(31)"
   ]
  },
  {
   "cell_type": "code",
   "execution_count": 11,
   "metadata": {},
   "outputs": [
    {
     "data": {
      "text/plain": [
       "'2 dimes'"
      ]
     },
     "execution_count": 11,
     "metadata": {},
     "output_type": "execute_result"
    }
   ],
   "source": [
    "makeChange(18)"
   ]
  },
  {
   "cell_type": "code",
   "execution_count": 12,
   "metadata": {},
   "outputs": [
    {
     "data": {
      "text/plain": [
       "'3 quarters, 1 nickel'"
      ]
     },
     "execution_count": 12,
     "metadata": {},
     "output_type": "execute_result"
    }
   ],
   "source": [
    "makeChange(82)"
   ]
  },
  {
   "cell_type": "code",
   "execution_count": 13,
   "metadata": {},
   "outputs": [
    {
     "data": {
      "text/plain": [
       "'1 quarter, 1 dime, 1 nickel'"
      ]
     },
     "execution_count": 13,
     "metadata": {},
     "output_type": "execute_result"
    }
   ],
   "source": [
    "makeChange(40)"
   ]
  },
  {
   "cell_type": "code",
   "execution_count": 14,
   "metadata": {},
   "outputs": [
    {
     "data": {
      "text/plain": [
       "'4 quarters'"
      ]
     },
     "execution_count": 14,
     "metadata": {},
     "output_type": "execute_result"
    }
   ],
   "source": [
    "makeChange(99)"
   ]
  },
  {
   "cell_type": "code",
   "execution_count": 15,
   "metadata": {},
   "outputs": [
    {
     "data": {
      "text/plain": [
       "'Please enter a positive number before 100'"
      ]
     },
     "execution_count": 15,
     "metadata": {},
     "output_type": "execute_result"
    }
   ],
   "source": [
    "makeChange(-2)"
   ]
  }
 ],
 "metadata": {
  "kernelspec": {
   "display_name": "Python 3",
   "language": "python",
   "name": "python3"
  },
  "language_info": {
   "codemirror_mode": {
    "name": "ipython",
    "version": 3
   },
   "file_extension": ".py",
   "mimetype": "text/x-python",
   "name": "python",
   "nbconvert_exporter": "python",
   "pygments_lexer": "ipython3",
   "version": "3.12.4"
  },
  "orig_nbformat": 4
 },
 "nbformat": 4,
 "nbformat_minor": 2
}
